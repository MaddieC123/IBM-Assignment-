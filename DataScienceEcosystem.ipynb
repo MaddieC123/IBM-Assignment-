{
 "cells": [
  {
   "cell_type": "markdown",
   "id": "852cb8db-a9c6-4b11-a37c-2afd8b73dd27",
   "metadata": {},
   "source": [
    "# Data Science Tools and Ecosystem"
   ]
  },
  {
   "cell_type": "markdown",
   "id": "e5716a41-de83-4463-8f18-678a3315a92a",
   "metadata": {},
   "source": [
    "This assignment is a demonstration of my knowledge of basic programming and data science tools. "
   ]
  },
  {
   "cell_type": "markdown",
   "id": "18a604cb-4816-4d28-acb2-bd20d46eef6c",
   "metadata": {},
   "source": [
    "## Data Science Languages \n",
    "- python \n",
    "- R \n",
    "- SQL \n"
   ]
  },
  {
   "cell_type": "markdown",
   "id": "12aaf3e4-099d-4253-a309-67024a36b66e",
   "metadata": {},
   "source": [
    "## Data Science Libraries \n",
    "- Pandas \n",
    "- NumPy\n",
    "- Matpotlib"
   ]
  },
  {
   "cell_type": "markdown",
   "id": "80fb8cb2-592b-4537-9c0d-757d3831f14d",
   "metadata": {},
   "source": [
    "## Data Science Tools \n",
    "|Open Source|Commercial|Cloud| \n",
    "|-----------|------------|-----|\n",
    "|Jupyter|tableau|IBM Watson Studio|\n",
    "|R Studio|SPSS|Azure Machine Learning|"
   ]
  },
  {
   "cell_type": "markdown",
   "id": "2c1f65e3-ef3b-40c6-a30b-8a4c90e8e3b4",
   "metadata": {},
   "source": [
    "The following cell demonstrates a basic arithmetic expression"
   ]
  },
  {
   "cell_type": "code",
   "execution_count": 1,
   "id": "fa9c3c03-ade4-470f-b67a-13bae3046903",
   "metadata": {},
   "outputs": [
    {
     "data": {
      "text/plain": [
       "10.0"
      ]
     },
     "execution_count": 1,
     "metadata": {},
     "output_type": "execute_result"
    }
   ],
   "source": [
    "(5*8)/4"
   ]
  },
  {
   "cell_type": "code",
   "execution_count": 3,
   "id": "a3b91a78-000d-4ea3-bf3f-fe4511df7524",
   "metadata": {},
   "outputs": [
    {
     "data": {
      "text/plain": [
       "3.0"
      ]
     },
     "execution_count": 3,
     "metadata": {},
     "output_type": "execute_result"
    }
   ],
   "source": [
    "# This shows how to convert minutes to hours \n",
    "minutes_to_hour = 60 \n",
    "180/minutes_to_hour"
   ]
  },
  {
   "cell_type": "markdown",
   "id": "6ca085d3-fa4d-4adf-a506-016ebcab2bf9",
   "metadata": {},
   "source": [
    "### Course Objectives \n",
    "- learning popular languages in Data Science \n",
    "- an introduction to basic programming\n",
    "- becoming familiar with Data Science tools that are available"
   ]
  },
  {
   "cell_type": "markdown",
   "id": "22534def-3768-49cc-867e-9da955ab81b1",
   "metadata": {},
   "source": [
    "## Madeline Corbett \n",
    "Author "
   ]
  },
  {
   "cell_type": "code",
   "execution_count": null,
   "id": "f32df7b0-37ef-4540-a096-ae1a9ad9a1c1",
   "metadata": {},
   "outputs": [],
   "source": []
  }
 ],
 "metadata": {
  "kernelspec": {
   "display_name": "Python",
   "language": "python",
   "name": "conda-env-python-py"
  },
  "language_info": {
   "codemirror_mode": {
    "name": "ipython",
    "version": 3
   },
   "file_extension": ".py",
   "mimetype": "text/x-python",
   "name": "python",
   "nbconvert_exporter": "python",
   "pygments_lexer": "ipython3",
   "version": "3.7.12"
  }
 },
 "nbformat": 4,
 "nbformat_minor": 5
}
